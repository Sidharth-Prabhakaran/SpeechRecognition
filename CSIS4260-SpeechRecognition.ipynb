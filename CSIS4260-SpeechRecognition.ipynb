{
 "cells": [
  {
   "cell_type": "markdown",
   "id": "e5e3a521",
   "metadata": {},
   "source": [
    "# CSIS4260 Final Project: Speech Recognition \n"
   ]
  },
  {
   "cell_type": "markdown",
   "id": "c10f0bf1",
   "metadata": {},
   "source": [
    "# STEP 0: Audio Conversion using SpeechRecognition"
   ]
  },
  {
   "cell_type": "code",
   "execution_count": 1,
   "id": "f5f1870a",
   "metadata": {},
   "outputs": [
    {
     "name": "stderr",
     "output_type": "stream",
     "text": [
      "D:\\Anaconda\\lib\\site-packages\\pydub\\utils.py:170: RuntimeWarning: Couldn't find ffmpeg or avconv - defaulting to ffmpeg, but may not work\n",
      "  warn(\"Couldn't find ffmpeg or avconv - defaulting to ffmpeg, but may not work\", RuntimeWarning)\n"
     ]
    },
    {
     "name": "stdout",
     "output_type": "stream",
     "text": [
      "{'alternative': [{'transcript': \"there is an hello everyone so my name is Arun and me and my team are going to be presenting a web app we are planning to develop and it's going to be called Baja and we're going to give you guys an overview of the progress that we made so far and give you guys an overview of the requirements of the project and why we came up with this idea and who we plan to cater this to so first I'm going to give you and I will be off the business case what what sparked an idea for our team to develop this app I think in the past few years there are a lot of great bars and clubs that have been coming up however due to the pandemic that's been a lot of hindrance on the growth of these bars and\", 'confidence': 0.95524442}, {'transcript': \"there is an hello everyone so my name is Arun and me and my team are going to be presenting a web app we are planning to develop and it's going to be called Baja and we're going to give you guys an overview of the progress that we made so far and give you guys an overview of the requirements of the project and why we came up with this idea and who we plan to cater this too so first I'm going to give you and I will be off the business case what what sparked an idea for our team to develop this app I think in the past few years there are a lot of great bars and clubs that have been coming up however due to the pandemic that's been a lot of hindrance on the growth of these bars and\"}, {'transcript': \"there is an hello everyone so my name is Arun and me and my team are going to be presenting a web app we are planning to develop and it's going to be called Baja and we're going to give you guys an overview of the progress that we made so far and give you guys an overview of the requirements of the project and why we came up with this idea and who we plan to cater this to so first I'm going to give you and I will be off the business case what what sparked an idea for our team to develop this app I think in the past few years there are a lot of great bars and clubs that have been coming up however due to the pandemic there's been a lot of hindrance on the growth of these bars and\"}, {'transcript': \"there is an hello everyone so my name is Arun and me and my team are going to be presenting a web app we are planning to develop and it's going to be called Baja and we're going to give you guys an overview of the progress that we made so far and give you guys an overview of the requirements of the project and why we came up with this idea and who we plan to cater this too so first I'm going to give you and I will be off the business case what what sparked an idea for our team to develop this app I think in the past few years there are a lot of great bars and clubs that have been coming up however due to the pandemic there's been a lot of hindrance on the growth of these bars and\"}, {'transcript': \"there is an hello everyone so my name is Arun and me and my team are going to be presenting a web app we are planning to develop and it's going to be called Baja and we're going to give you guys an overview of the progress that we made so far and give you guys an overview of the requirements of the project and why we came up with this idea and who we plan to cater this to so first I'm going to give you and I will be off the business case what what sparked an idea for our team to develop this app I think in the past few years there are a lot of great bars and clubs that have been coming up however due to the pandemic that's been a lot of a hindrance on the growth of these bars and\"}], 'final': True}\n"
     ]
    }
   ],
   "source": [
    "import speech_recognition as sr\n",
    "from pydub import AudioSegment\n",
    "\n",
    "# Load the stereo audio file\n",
    "audio = AudioSegment.from_wav('audio.wav')\n",
    "# Convert to mono\n",
    "audio = audio.set_channels(1)\n",
    "# Export the mono audio file\n",
    "audio.export('audio.wav', format='wav')\n",
    "\n",
    "recognizer = sr.Recognizer()\n",
    "recognizer.energy_threshold = 300\n",
    "cleanCall = sr.AudioFile('audio.wav')\n",
    "with cleanCall as source:\n",
    "    audiodata = recognizer.record(cleanCall,duration = 60)\n",
    "\n",
    "text = recognizer.recognize_google(audio_data= audiodata, language='en-US',show_all=True)\n",
    "print(text)"
   ]
  },
  {
   "cell_type": "markdown",
   "id": "a12923a9",
   "metadata": {},
   "source": [
    "Since the output does not contain any timestamp details of the words, we are using another API from google for the audio conversion."
   ]
  },
  {
   "cell_type": "markdown",
   "id": "96ec89c1",
   "metadata": {},
   "source": [
    "## STEP 1 : Convert Audio to text using Google Speech"
   ]
  },
  {
   "cell_type": "code",
   "execution_count": 1,
   "id": "a4a612cc",
   "metadata": {
    "scrolled": true
   },
   "outputs": [
    {
     "name": "stdout",
     "output_type": "stream",
     "text": [
      "Waiting for operation to complete...\n",
      "\n",
      "\n",
      "Transcript: \n",
      "Confidence: 0.0\n",
      "Transcript: hello everyone, my name is Aaron and me and my team are going to be presenting a web app we are planning to develop and it's going to be called and they're going to give you guys an overview of the progress has been made so far and if you guys an overview of the requirements of project and why we came up with this idea and we plan to kids at the zoo\n",
      "Confidence: 0.9223182201385498\n",
      "Transcript:  so first I'm going to give you an overview of the business case what what sparked an idea for a team to develop his app I think in the past few years that a lot of great bars and I'm set up in coming up. However due to the panda make that's being a lot of a hindrance on the growth of these bars and clubs\n",
      "Confidence: 0.9375288486480713\n"
     ]
    }
   ],
   "source": [
    "from google.cloud import speech\n",
    "import wave\n",
    "\n",
    "client = speech.SpeechClient.from_service_account_file('key.json')\n",
    "file_name = 'audio.wav'\n",
    "\n",
    "with wave.open(file_name, 'rb') as wav_file:\n",
    "    # Get the frame rate and number of channels\n",
    "    frame_rate = wav_file.getframerate()\n",
    "    num_channels = wav_file.getnchannels()\n",
    "    \n",
    "    # Read the first minute of audio frames\n",
    "    start_frame = 0\n",
    "    end_frame = frame_rate * 60\n",
    "    wav_file.setpos(start_frame)\n",
    "    frames = wav_file.readframes(end_frame - start_frame)\n",
    "    \n",
    "    # Convert the frames to bytes\n",
    "    bytes_per_sample = wav_file.getsampwidth()\n",
    "    byte_frames = bytes_per_sample * num_channels * (end_frame - start_frame)\n",
    "    wav_data = frames[:byte_frames]\n",
    "    \n",
    "audio = speech.RecognitionAudio(content=wav_data)\n",
    "\n",
    "config = speech.RecognitionConfig(\n",
    "        encoding=speech.RecognitionConfig.AudioEncoding.LINEAR16,\n",
    "        sample_rate_hertz=48000,\n",
    "        language_code=\"en-US\",\n",
    "        enable_word_time_offsets=True,\n",
    "    )\n",
    "\n",
    "operation = client.long_running_recognize(config=config, audio=audio)\n",
    "print(\"Waiting for operation to complete...\\n\\n\")\n",
    "response= operation.result()\n",
    "\n",
    "for result in response.results:\n",
    "    alternative = result.alternatives[0]\n",
    "    print(\"Transcript: {}\".format(alternative.transcript))\n",
    "    print(\"Confidence: {}\".format(alternative.confidence))"
   ]
  },
  {
   "cell_type": "code",
   "execution_count": 5,
   "id": "2333fc66",
   "metadata": {},
   "outputs": [
    {
     "data": {
      "text/plain": [
       "google.cloud.speech_v1.types.cloud_speech.SpeechRecognitionAlternative"
      ]
     },
     "execution_count": 5,
     "metadata": {},
     "output_type": "execute_result"
    }
   ],
   "source": [
    "type(response.results[0].alternatives[0])"
   ]
  },
  {
   "cell_type": "markdown",
   "id": "41139de4",
   "metadata": {},
   "source": [
    "## STEP 2: Group Words for Each second Making it Easy to Create Subtitle Files"
   ]
  },
  {
   "cell_type": "code",
   "execution_count": 3,
   "id": "65efd478",
   "metadata": {},
   "outputs": [
    {
     "name": "stdout",
     "output_type": "stream",
     "text": [
      "Words in group with start_time.seconds = 3:\n",
      "['hello']\n",
      "\n",
      "Words in group with start_time.seconds = 4:\n",
      "['everyone,', 'my']\n",
      "\n",
      "Words in group with start_time.seconds = 5:\n",
      "['name', 'is', 'Aaron']\n",
      "\n",
      "Words in group with start_time.seconds = 6:\n",
      "['and', 'me']\n",
      "\n",
      "Words in group with start_time.seconds = 8:\n",
      "['and', 'my', 'team', 'are', 'going', 'to']\n",
      "\n",
      "Words in group with start_time.seconds = 9:\n",
      "['be', 'presenting', 'a']\n",
      "\n",
      "Words in group with start_time.seconds = 10:\n",
      "['web']\n",
      "\n",
      "Words in group with start_time.seconds = 11:\n",
      "['app', 'we', 'are', 'planning']\n",
      "\n",
      "Words in group with start_time.seconds = 12:\n",
      "['to', 'develop', 'and']\n",
      "\n",
      "Words in group with start_time.seconds = 13:\n",
      "[\"it's\", 'going', 'to', 'be', 'called']\n",
      "\n",
      "Words in group with start_time.seconds = 14:\n",
      "['and']\n",
      "\n",
      "Words in group with start_time.seconds = 15:\n",
      "[\"they're\", 'going', 'to', 'give']\n",
      "\n",
      "Words in group with start_time.seconds = 16:\n",
      "['you', 'guys', 'an', 'overview']\n",
      "\n",
      "Words in group with start_time.seconds = 17:\n",
      "['of', 'the', 'progress']\n",
      "\n",
      "Words in group with start_time.seconds = 19:\n",
      "['has', 'been', 'made', 'so', 'far']\n",
      "\n",
      "Words in group with start_time.seconds = 20:\n",
      "['and', 'if']\n",
      "\n",
      "Words in group with start_time.seconds = 21:\n",
      "['you', 'guys', 'an', 'overview', 'of']\n",
      "\n",
      "Words in group with start_time.seconds = 22:\n",
      "['the', 'requirements', 'of']\n",
      "\n",
      "Words in group with start_time.seconds = 23:\n",
      "['project', 'and', 'why']\n",
      "\n",
      "Words in group with start_time.seconds = 24:\n",
      "['we', 'came']\n",
      "\n",
      "Words in group with start_time.seconds = 25:\n",
      "['up', 'with', 'this', 'idea', 'and']\n",
      "\n",
      "Words in group with start_time.seconds = 26:\n",
      "['we', 'plan', 'to', 'kids']\n",
      "\n",
      "Words in group with start_time.seconds = 28:\n",
      "['at', 'the', 'zoo']\n",
      "\n",
      "Words in group with start_time.seconds = 34:\n",
      "['so', 'first']\n",
      "\n",
      "Words in group with start_time.seconds = 35:\n",
      "[\"I'm\", 'going', 'to', 'give', 'you']\n",
      "\n",
      "Words in group with start_time.seconds = 36:\n",
      "['an', 'overview', 'of', 'the', 'business']\n",
      "\n",
      "Words in group with start_time.seconds = 37:\n",
      "['case', 'what']\n",
      "\n",
      "Words in group with start_time.seconds = 38:\n",
      "['what', 'sparked']\n",
      "\n",
      "Words in group with start_time.seconds = 39:\n",
      "['an', 'idea', 'for']\n",
      "\n",
      "Words in group with start_time.seconds = 40:\n",
      "['a', 'team', 'to', 'develop']\n",
      "\n",
      "Words in group with start_time.seconds = 41:\n",
      "['his', 'app', 'I']\n",
      "\n",
      "Words in group with start_time.seconds = 42:\n",
      "['think', 'in']\n",
      "\n",
      "Words in group with start_time.seconds = 43:\n",
      "['the', 'past']\n",
      "\n",
      "Words in group with start_time.seconds = 44:\n",
      "['few', 'years', 'that', 'a', 'lot']\n",
      "\n",
      "Words in group with start_time.seconds = 45:\n",
      "['of', 'great', 'bars']\n",
      "\n",
      "Words in group with start_time.seconds = 46:\n",
      "['and', \"I'm\", 'set', 'up', 'in', 'coming']\n",
      "\n",
      "Words in group with start_time.seconds = 47:\n",
      "['up.']\n",
      "\n",
      "Words in group with start_time.seconds = 48:\n",
      "['However', 'due', 'to']\n",
      "\n",
      "Words in group with start_time.seconds = 49:\n",
      "['the', 'panda']\n",
      "\n",
      "Words in group with start_time.seconds = 50:\n",
      "['make', \"that's\", 'being', 'a', 'lot']\n",
      "\n",
      "Words in group with start_time.seconds = 51:\n",
      "['of', 'a', 'hindrance']\n",
      "\n",
      "Words in group with start_time.seconds = 53:\n",
      "['on', 'the', 'growth', 'of']\n",
      "\n",
      "Words in group with start_time.seconds = 54:\n",
      "['these', 'bars', 'and', 'clubs']\n",
      "\n"
     ]
    }
   ],
   "source": [
    "import pandas as pd\n",
    "\n",
    "content =[]\n",
    "\n",
    "for result in response.results:\n",
    "    alternative = result.alternatives[0]\n",
    "    for i in range(len(alternative.words)):\n",
    "        content.append({'Word' : alternative.words[i].word, 'Start_time' :alternative.words[i].start_time.seconds })\n",
    "#     print((alternative.words[i].start_time.seconds))\n",
    "#     print((alternative.words[i].word))\n",
    "\n",
    "\n",
    "# create a DataFrame from the list of dictionaries\n",
    "df = pd.DataFrame(content)\n",
    "# print(df)\n",
    "# group by start_time seconds\n",
    "grouped = df.groupby('Start_time')\n",
    "\n",
    "# # iterate over the groups and print the words in each group\n",
    "for name, group in grouped:\n",
    "    print(f\"Words in group with start_time.seconds = {name}:\")\n",
    "    print(group['Word'].tolist())\n",
    "    print()\n"
   ]
  },
  {
   "cell_type": "markdown",
   "id": "b1247bb9",
   "metadata": {},
   "source": [
    "## STEP 3: Converting Text to Different Languages"
   ]
  },
  {
   "cell_type": "code",
   "execution_count": 4,
   "id": "8855847d",
   "metadata": {},
   "outputs": [
    {
     "name": "stdout",
     "output_type": "stream",
     "text": [
      "\n",
      "\n",
      "Result in Tamil / தமிழ் :\n",
      "\n",
      "அனைவருக்கும் வணக்கம், எனது பெயர் ஆரோன் மற்றும் நானும் எனது குழுவும் நாங்கள் உருவாக்கத் திட்டமிட்டுள்ள ஒரு வலை பயன்பாட்டை வழங்கப் போகிறோம், அது அழைக்கப்படப் போகிறது, மேலும் அவர்கள் உங்களுக்கு முன்னேற்றம் குறித்த ஒரு கண்ணோட்டத்தை வழங்கப் போகிறார்கள்நீங்கள் திட்டத்தின் தேவைகள் பற்றிய ஒரு கண்ணோட்டத்தை நீங்கள் செய்தால், ஏன் இந்த யோசனையை நாங்கள் கொண்டு வந்தோம், நாங்கள் மிருகக்காட்சிசாலையில் குழந்தைகளுக்குத் திட்டமிட்டால், முதலில் நான் வணிக வழக்கைப் பற்றிய ஒரு கண்ணோட்டத்தை உங்களுக்கு வழங்கப் போகிறேன்அவரது பயன்பாட்டை உருவாக்க கடந்த சில ஆண்டுகளில் நிறைய பெரிய பார்கள் மற்றும் நான் வருவதில் அமைக்கப்பட்டிருக்கிறேன் என்று நினைக்கிறேன்.எவ்வாறாயினும், இந்த பார்கள் மற்றும் கிளப்புகளின் வளர்ச்சிக்கு இது மிகவும் தடையாக இருப்பதால் பாண்டா தயாரித்தல் காரணமாக\n",
      "\n",
      "\n",
      "Result in Sinhalese / සිංහල :\n",
      "\n",
      "ආයුබෝවන්, මගේ නම ආරොන් සහ මම සහ මගේ කණ්ඩායම අපි සංවර්ධනය කිරීමට සැලසුම් කරන අතරමම වෙබ් යෙදුමක් ඉදිරිපත් කරන්නෙමු. එය කැඳවනු ඇත, ඔවුන් ඔබට ලබා දෙනු ඇතඔබ ව්යාපෘතියේ අවශ්යතා පිළිබඳ දළ විශ්ලේෂණයක් කර ඇත්නම් සහ අපි මෙම අදහස සමඟ දළ විශ්ලේෂණයක් කර ඇති අතර අපි සත්වෝද්යානයේ ළමයින්ට සැලසුම් කළෙමු.ඔහුගේ යෙදුම සංවර්ධනය කිරීම සඳහා මම හිතන්නේ පසුගිය වසර කිහිපය තුළ විශාල බාර් බොහොමයක් සහ මම පෙනී සිටියෙමි.කෙසේ වෙතත් පැන්ඩා හේතුවෙන් මෙම බාර් සහ සමාජශාලාවන්ගේ වර්ධනයට විශාල බාධාවක් වනු ඇත\n",
      "\n",
      "\n",
      "Result in Turkish / Türkçe :\n",
      "\n",
      "Herkese merhaba, benim adım Aaron ve ben ve ekibim geliştirmeyi planladığımız bir web uygulaması sunacak ve çağrılacak ve size şimdiye kadar ilerlemeye genel bir bakış sunacaklarVe eğer projenin gereksinimlerine ve neden bu fikri bulduğumuza genel bir bakış ve hayvanat bahçesinde çocukları planlıyoruz, bu yüzden önce size bir ekip için bir fikri tetikleyen şeylere genel bir bakış vereceğimOnun uygulamasını geliştirmek için son birkaç yıldır çok büyük çubuklar olduğunu düşünüyorum ve gelmeye hazırım.Ancak panda yapımı nedeniyle bu, bu çubukların ve kulüplerin büyümesine çok fazla engel oluyor\n"
     ]
    }
   ],
   "source": [
    "from googletrans import Translator\n",
    "\n",
    "text =\"\"\n",
    "\n",
    "for result in response.results:\n",
    "    alternative = result.alternatives[0]\n",
    "    text+= alternative.transcript\n",
    "    \n",
    "translator = Translator()\n",
    "\n",
    "Tamil = translator.translate('tamil', dest='ta')\n",
    "TamilText = translator.translate(text, dest='ta')\n",
    "print(\"\\n\\nResult in Tamil / \" + Tamil.text + \" :\\n\")\n",
    "print(TamilText.text)\n",
    "\n",
    "Sinhalese = translator.translate('Sinhalese', dest='si')\n",
    "SinhaleseText = translator.translate(text, dest='si')\n",
    "print(\"\\n\\nResult in Sinhalese / \" + Sinhalese.text + \" :\\n\")\n",
    "print(SinhaleseText.text)\n",
    "\n",
    "Turkish = translator.translate('Turkish', dest='tr')\n",
    "TurkishText = translator.translate(text, dest='tr')\n",
    "print(\"\\n\\nResult in Turkish / \" + Turkish.text + \" :\\n\")\n",
    "print(TurkishText.text)"
   ]
  },
  {
   "cell_type": "markdown",
   "id": "b7dd3659",
   "metadata": {},
   "source": [
    "## STEP 4: Generating Audio in Respective Languages"
   ]
  },
  {
   "cell_type": "code",
   "execution_count": 5,
   "id": "79889a98",
   "metadata": {},
   "outputs": [],
   "source": [
    "import gtts\n",
    "\n",
    "tts = gtts.gTTS(TamilText.text,lang=\"ta\")\n",
    "tts.save(\"tamilAudio.mp3\")\n",
    "tts = gtts.gTTS(SinhaleseText.text,lang=\"si\")\n",
    "tts.save(\"SinhalaAudio.mp3\")\n",
    "tts = gtts.gTTS(TurkishText.text,lang=\"tr\")\n",
    "tts.save(\"TurkishAudio.mp3\")"
   ]
  },
  {
   "cell_type": "markdown",
   "id": "a39f315f",
   "metadata": {},
   "source": [
    "## Plot the Audio Signal in a Graph"
   ]
  },
  {
   "cell_type": "code",
   "execution_count": 6,
   "id": "65420013",
   "metadata": {
    "scrolled": true
   },
   "outputs": [
    {
     "data": {
      "image/png": "[encoded data removed]",
      "text/plain": [
       "<Figure size 640x480 with 1 Axes>"
      ]
     },
     "metadata": {},
     "output_type": "display_data"
    }
   ],
   "source": [
    "import numpy as np\n",
    "from scipy.io.wavfile import read\n",
    "import matplotlib.pyplot as plt\n",
    "\n",
    "# Read audio data from file\n",
    "sampling_rate, data = read('audio.wav')\n",
    "\n",
    "# Calculate the duration of the audio data\n",
    "duration = len(data) / sampling_rate\n",
    "\n",
    "# Create a time vector for the x-axis of the plot\n",
    "time = np.arange(0, duration, 1/sampling_rate)\n",
    "\n",
    "# Set the duration to plot as the first minute\n",
    "duration_to_plot = 60  # 60 seconds\n",
    "\n",
    "# Plot the audio data for the first minute\n",
    "fig, ax = plt.subplots()\n",
    "ax.plot(time, data)\n",
    "ax.set_xlim(0, duration_to_plot)\n",
    "ax.set_xlabel('Time (s)')\n",
    "ax.set_ylabel('Amplitude')\n",
    "ax.set_title(f'Input audio signal (0-{duration_to_plot:.1f} s)')\n",
    "\n",
    "plt.show()\n"
   ]
  },
  {
   "cell_type": "markdown",
   "id": "562d7cda",
   "metadata": {},
   "source": [
    "## Install the following Libraries to run this project\n",
    "pip install scipy pandas wave <br>\n",
    "pip install google-cloud-speech <br>\n",
    "pip install matplotlib <br>\n",
    "pip install gtts <br>\n",
    "pip install googletrans==4.0.0-rc1 <br>\n",
    "\n",
    "## Import Statements below\n",
    "from scipy.io.wavfile import read <br>\n",
    "import matplotlib.pyplot as plt <br>\n",
    "import gtts <br>\n",
    "from googletrans import Translator <br>\n",
    "import pandas as pd <br>\n",
    "from google.cloud import speech <br>\n",
    "import wave <br>\n",
    "<br>\n"
   ]
  }
 ],
 "metadata": {
  "kernelspec": {
   "display_name": "Python 3 (ipykernel)",
   "language": "python",
   "name": "python3"
  },
  "language_info": {
   "codemirror_mode": {
    "name": "ipython",
    "version": 3
   },
   "file_extension": ".py",
   "mimetype": "text/x-python",
   "name": "python",
   "nbconvert_exporter": "python",
   "pygments_lexer": "ipython3",
   "version": "3.9.13"
  }
 },
 "nbformat": 4,
 "nbformat_minor": 5
}
